{
 "cells": [
  {
   "cell_type": "markdown",
   "id": "cbcc4405",
   "metadata": {},
   "source": [
    "## X-gate"
   ]
  },
  {
   "cell_type": "code",
   "execution_count": 34,
   "id": "db637fbf",
   "metadata": {},
   "outputs": [],
   "source": [
    "from qiskit import QuantumCircuit, transpile, QuantumRegister \n",
    "from qiskit_aer import AerSimulator"
   ]
  },
  {
   "cell_type": "code",
   "execution_count": 27,
   "id": "02ae55cb",
   "metadata": {},
   "outputs": [
    {
     "name": "stdout",
     "output_type": "stream",
     "text": [
      "Statevector([1.+0.j, 0.+0.j],\n",
      "            dims=(2,))\n"
     ]
    },
    {
     "data": {
      "image/png": "[encoded data removed]",
      "text/plain": [
       "<Figure size 185.453x117.056 with 1 Axes>"
      ]
     },
     "execution_count": 27,
     "metadata": {},
     "output_type": "execute_result"
    }
   ],
   "source": [
    "qc = QuantumCircuit(1)\n",
    "statevector = Statevector(qc)\n",
    "print(statevector) # Default state is |0> = [ 1 ]\n",
    "                   #                        [ 0 ]\n",
    "qc.x(0)\n",
    "qc.draw('mpl')"
   ]
  },
  {
   "cell_type": "code",
   "execution_count": 28,
   "id": "b9c94428",
   "metadata": {},
   "outputs": [
    {
     "name": "stdout",
     "output_type": "stream",
     "text": [
      "Statevector([0.+0.j, 1.+0.j],\n",
      "            dims=(2,))\n"
     ]
    }
   ],
   "source": [
    "from qiskit.quantum_info import Statevector\n",
    "statevector = Statevector(qc)\n",
    "statevector"
   ]
  },
  {
   "cell_type": "code",
   "execution_count": 29,
   "id": "5957fcb5",
   "metadata": {},
   "outputs": [],
   "source": [
    "from qiskit.primitives import BackendSampler\n",
    "\n",
    "simulator = AerSimulator()\n",
    "job = simulator.run(qc)\n",
    "\n",
    "\n",
    "#backend = AerSimulator() \n",
    "#sampler = BackendSampler(backend)\n",
    "#job = sampler.run(qc)\n",
    "\n",
    "unitary = job.result()\n",
    "    \n",
    "#display(\n",
    "  #  display_matrix(unitary, \"X\"))"
   ]
  },
  {
   "cell_type": "code",
   "execution_count": 30,
   "id": "a7535c6d",
   "metadata": {},
   "outputs": [
    {
     "name": "stdout",
     "output_type": "stream",
     "text": [
      "Result(backend_name='aer_simulator', backend_version='0.14.2', qobj_id='', job_id='872f2229-e9f6-4251-8456-91b84af9d0e7', success=True, results=[ExperimentResult(shots=1024, success=True, meas_level=2, data=ExperimentResultData(counts={'0x1': 1024}), header=QobjExperimentHeader(creg_sizes=[['meas', 1]], global_phase=0.0, memory_slots=1, n_qubits=1, name='circuit-211', qreg_sizes=[['q', 1]], metadata={}), status=DONE, seed_simulator=28695459, metadata={'num_bind_params': 1, 'runtime_parameter_bind': False, 'parallel_state_update': 4, 'parallel_shots': 1, 'sample_measure_time': 0.000452407, 'noise': 'ideal', 'batched_shots_optimization': False, 'remapped_qubits': False, 'active_input_qubits': [0], 'device': 'CPU', 'time_taken': 0.002908918, 'measure_sampling': True, 'num_clbits': 1, 'max_memory_mb': 8192, 'input_qubit_map': [[0, 0]], 'num_qubits': 1, 'method': 'statevector', 'required_memory_mb': 1, 'fusion': {'enabled': True, 'threshold': 14, 'applied': False, 'max_fused_qubits': 5}}, time_taken=0.002908918)], date=2024-06-21T00:15:52.687135, status=COMPLETED, header=None, metadata={'time_taken_parameter_binding': 1.2195e-05, 'max_memory_mb': 8192, 'time_taken_execute': 0.003388745, 'omp_enabled': True, 'max_gpu_memory_mb': 0, 'parallel_experiments': 1}, time_taken=0.004515886306762695)\n"
     ]
    },
    {
     "data": {
      "text/plain": [
       "{'1': 1024}"
      ]
     },
     "execution_count": 30,
     "metadata": {},
     "output_type": "execute_result"
    }
   ],
   "source": [
    "#qc = QuantumCircuit(1)\n",
    "statevector = Statevector(qc)\n",
    "qc.z(0)\n",
    "qc.measure_all()\n",
    "job = backend.run(transpile(qc, backend))\n",
    "print(job.result())\n",
    "#job.result().get_statevector()\n",
    "job.result().get_counts()\n",
    "#job.result().get_unitary(qc)"
   ]
  },
  {
   "cell_type": "markdown",
   "id": "b1897ecd",
   "metadata": {},
   "source": [
    "## CZ Gate"
   ]
  },
  {
   "cell_type": "code",
   "execution_count": 39,
   "id": "e429b790",
   "metadata": {},
   "outputs": [
    {
     "data": {
      "image/png": "[encoded data removed]",
      "text/plain": [
       "<Figure size 185.453x200.667 with 1 Axes>"
      ]
     },
     "execution_count": 39,
     "metadata": {},
     "output_type": "execute_result"
    }
   ],
   "source": [
    "qr = QuantumRegister(2,'')  \n",
    "qc = QuantumCircuit(qr)\n",
    "qc.cz(0,1)\n",
    "qc.draw('mpl')"
   ]
  },
  {
   "cell_type": "code",
   "execution_count": 42,
   "id": "864b9aa5",
   "metadata": {},
   "outputs": [
    {
     "name": "stderr",
     "output_type": "stream",
     "text": [
      "/var/folders/3m/pc44t30x60gd3bj_3f670_yw0000gn/T/ipykernel_21827/3350047679.py:14: DeprecationWarning: Using a qobj for run() is deprecated as of qiskit-aer 0.14 and will be removed no sooner than 3 months from that release date. Transpiled circuits should now be passed directly using `backend.run(circuits, **run_options).\n",
      "  result = simulator.run(qobj).result()\n"
     ]
    },
    {
     "data": {
      "text/latex": [
       "$$\n",
       "\\text{Statevector = }\n",
       "\\begin{bmatrix}\n",
       "\\frac{\\sqrt{2}}{2} & 0 & 0 & \\frac{\\sqrt{2}}{2}  \\\\\n",
       " \\end{bmatrix}\n",
       "$$"
      ],
      "text/plain": [
       "<IPython.core.display.Latex object>"
      ]
     },
     "execution_count": 42,
     "metadata": {},
     "output_type": "execute_result"
    }
   ],
   "source": []
  },
  {
   "cell_type": "code",
   "execution_count": null,
   "id": "1ca94861",
   "metadata": {},
   "outputs": [],
   "source": []
  }
 ],
 "metadata": {
  "kernelspec": {
   "display_name": "Python 3 (ipykernel)",
   "language": "python",
   "name": "python3"
  },
  "language_info": {
   "codemirror_mode": {
    "name": "ipython",
    "version": 3
   },
   "file_extension": ".py",
   "mimetype": "text/x-python",
   "name": "python",
   "nbconvert_exporter": "python",
   "pygments_lexer": "ipython3",
   "version": "3.11.9"
  }
 },
 "nbformat": 4,
 "nbformat_minor": 5
}
